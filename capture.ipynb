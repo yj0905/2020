{
  "nbformat": 4,
  "nbformat_minor": 0,
  "metadata": {
    "colab": {
      "name": "capture.ipynb",
      "provenance": [],
      "collapsed_sections": [],
      "authorship_tag": "ABX9TyORaXLjOzYVh2gXCyFZxuS2",
      "include_colab_link": true
    },
    "kernelspec": {
      "name": "python3",
      "display_name": "Python 3"
    }
  },
  "cells": [
    {
      "cell_type": "markdown",
      "metadata": {
        "id": "view-in-github",
        "colab_type": "text"
      },
      "source": [
        "<a href=\"https://colab.research.google.com/github/yj0905/2020/blob/master/capture.ipynb\" target=\"_parent\"><img src=\"https://colab.research.google.com/assets/colab-badge.svg\" alt=\"Open In Colab\"/></a>"
      ]
    },
    {
      "cell_type": "code",
      "metadata": {
        "id": "75DfdTkJD0zA",
        "colab_type": "code",
        "colab": {}
      },
      "source": [
        "#원격 인터프린터 연결했습니다."
      ],
      "execution_count": 0,
      "outputs": []
    },
    {
      "cell_type": "markdown",
      "metadata": {
        "id": "S2xNCjItD5S1",
        "colab_type": "text"
      },
      "source": [
        "![picture](https://drive.google.com/uc?id=1oP5IUEJn64f-cS4VvKz0exa32qzBgdSF)"
      ]
    }
  ]
}